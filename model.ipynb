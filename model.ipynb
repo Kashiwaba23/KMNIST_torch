{
 "cells": [
  {
   "cell_type": "markdown",
   "metadata": {},
   "source": [
    "# CNNs in Pytorch - Practice Using the Kuzushiji-MNIST Dataset Available in Torchvision"
   ]
  },
  {
   "cell_type": "markdown",
   "metadata": {},
   "source": [
    "https://pytorch.org/vision/0.8/datasets.html#kmnist"
   ]
  },
  {
   "cell_type": "code",
   "execution_count": 73,
   "metadata": {},
   "outputs": [],
   "source": [
    "import matplotlib.pyplot as plt\n",
    "import numpy as np\n",
    "import pandas as pd\n",
    "import torch\n",
    "import torchmetrics\n",
    "import torchvision.datasets as datasets\n",
    "import torchvision.transforms as transforms\n",
    "import japanize_matplotlib # to display Japanese text in matplotlib"
   ]
  },
  {
   "cell_type": "markdown",
   "metadata": {},
   "source": [
    "## Loading the Data"
   ]
  },
  {
   "cell_type": "code",
   "execution_count": 2,
   "metadata": {},
   "outputs": [],
   "source": [
    "device = torch.device('cuda' if torch.cuda.is_available() else 'cpu')"
   ]
  },
  {
   "cell_type": "code",
   "execution_count": 3,
   "metadata": {},
   "outputs": [],
   "source": [
    "transform = transforms.Compose([\n",
    "    transforms.ToTensor(),\n",
    "    transforms.Normalize((0.5,), (0.5,))\n",
    "])\n",
    "\n",
    "kmnist_train = datasets.KMNIST(root='./data', train=True, download=True, transform=transform)\n",
    "kmist_test = datasets.KMNIST(root='./data', train=False, transform=transform)"
   ]
  },
  {
   "cell_type": "code",
   "execution_count": 4,
   "metadata": {},
   "outputs": [],
   "source": [
    "dataloader_train = torch.utils.data.DataLoader(kmnist_train, batch_size=2, shuffle=True)\n",
    "dataloader_test = torch.utils.data.DataLoader(kmist_test, batch_size=2, shuffle=False)"
   ]
  },
  {
   "cell_type": "code",
   "execution_count": 5,
   "metadata": {},
   "outputs": [],
   "source": [
    "hiragana = {0:'お', 1:'き', 2:'す', 3:'つ', 4:'な', 5:'は', 6:'ま', 7:'や', 8:'れ', 9:'を'}"
   ]
  },
  {
   "cell_type": "code",
   "execution_count": 6,
   "metadata": {},
   "outputs": [
    {
     "data": {
      "text/plain": [
       "['o', 'ki', 'su', 'tsu', 'na', 'ha', 'ma', 'ya', 're', 'wo']"
      ]
     },
     "execution_count": 6,
     "metadata": {},
     "output_type": "execute_result"
    }
   ],
   "source": [
    "num_classes = len(kmnist_train.classes)\n",
    "kmnist_train.classes"
   ]
  },
  {
   "cell_type": "code",
   "execution_count": 14,
   "metadata": {},
   "outputs": [
    {
     "name": "stdout",
     "output_type": "stream",
     "text": [
      "torch.Size([2, 1, 28, 28])\n"
     ]
    },
    {
     "data": {
      "text/plain": [
       "Text(0.5, 0.98, 'Training Image Sample')"
      ]
     },
     "execution_count": 14,
     "metadata": {},
     "output_type": "execute_result"
    },
    {
     "data": {
      "image/png": "[encoded data removed]",
      "text/plain": [
       "<Figure size 1200x700 with 2 Axes>"
      ]
     },
     "metadata": {},
     "output_type": "display_data"
    }
   ],
   "source": [
    "images, labels = next(iter(dataloader_train))\n",
    "print(images.shape)\n",
    "fig, axes = plt.subplots(ncols=2, nrows=1, figsize=(12, 7))\n",
    "axes[0].imshow(images[0].squeeze(), cmap='gray')\n",
    "axes[0].title.set_text(hiragana[labels[0].item()])\n",
    "axes[1].imshow(images[1].squeeze(), cmap='gray')\n",
    "axes[1].title.set_text(hiragana[labels[1].item()])\n",
    "plt.suptitle('Training Image Sample')"
   ]
  },
  {
   "cell_type": "markdown",
   "metadata": {},
   "source": [
    "## Defining the Model"
   ]
  },
  {
   "cell_type": "code",
   "execution_count": 30,
   "metadata": {},
   "outputs": [
    {
     "name": "stdout",
     "output_type": "stream",
     "text": [
      "torch.Size([2, 1, 28, 28])\n",
      "torch.Size([2, 32, 28, 28])\n",
      "torch.Size([2, 32, 14, 14])\n",
      "torch.Size([2, 54, 14, 14])\n",
      "torch.Size([2, 54, 7, 7])\n"
     ]
    }
   ],
   "source": [
    "# Checking input and layer output shapes.\n",
    "# output shape = (((width - kernel_size) + 2*padding)/stride) + 1\n",
    "images, labels = next(iter(dataloader_train))\n",
    "conv1 = torch.nn.Conv2d(1, 32, kernel_size=3, padding=1)\n",
    "pool = torch.nn.MaxPool2d(2,2)\n",
    "conv2 = torch.nn.Conv2d(32, 54, kernel_size=3, padding=1)\n",
    "print(images.shape)\n",
    "x = conv1(images)\n",
    "print(x.shape)\n",
    "x = pool(x)\n",
    "print(x.shape)\n",
    "x = conv2(x)\n",
    "print(x.shape)\n",
    "x = pool(x)\n",
    "print(x.shape)"
   ]
  },
  {
   "cell_type": "code",
   "execution_count": 56,
   "metadata": {},
   "outputs": [],
   "source": [
    "class Net(torch.nn.Module):\n",
    "    def __init__(self, num_classes):\n",
    "        super(Net, self).__init__()\n",
    "        self.conv1 = torch.nn.Conv2d(1, 32, kernel_size=3,padding=1)\n",
    "        self.pool = torch.nn.MaxPool2d(2,2)\n",
    "        self.conv2 = torch.nn.Conv2d(32, 54, kernel_size=3, padding=1)\n",
    "        self.fc1 = torch.nn.Linear(54*7*7, 120)\n",
    "        self.fc2 = torch.nn.Linear(120, 84)\n",
    "        self.fc3 = torch.nn.Linear(84, 10)\n",
    "\n",
    "    def forward(self, x):\n",
    "        x = self.conv1(x)\n",
    "        x = torch.nn.functional.relu(x)\n",
    "        x = self.pool(x)\n",
    "        x = self.conv2(x)\n",
    "        x = torch.nn.functional.relu(x)\n",
    "        x = self.pool(x)\n",
    "        x = x.view(-1, 54*7*7) # Flatten input tensor\n",
    "        x = self.fc1(x)\n",
    "        x = torch.nn.functional.relu(x)\n",
    "        x = self.fc2(x)\n",
    "        x = torch.nn.functional.relu(x)\n",
    "        x = self.fc3(x)\n",
    "        return x"
   ]
  },
  {
   "cell_type": "code",
   "execution_count": 57,
   "metadata": {},
   "outputs": [],
   "source": [
    "model = Net(num_classes=num_classes).to(device)"
   ]
  },
  {
   "cell_type": "code",
   "execution_count": 58,
   "metadata": {},
   "outputs": [],
   "source": [
    "criterion = torch.nn.CrossEntropyLoss()\n",
    "optimizer = torch.optim.Adam(model.parameters(), lr=0.001)"
   ]
  },
  {
   "cell_type": "code",
   "execution_count": 59,
   "metadata": {},
   "outputs": [
    {
     "data": {
      "text/plain": [
       "30000"
      ]
     },
     "execution_count": 59,
     "metadata": {},
     "output_type": "execute_result"
    }
   ],
   "source": [
    "n_total_steps = len(dataloader_train)\n",
    "n_total_steps"
   ]
  },
  {
   "cell_type": "code",
   "execution_count": 60,
   "metadata": {},
   "outputs": [],
   "source": [
    "num_epochs = 4"
   ]
  },
  {
   "cell_type": "code",
   "execution_count": 61,
   "metadata": {},
   "outputs": [
    {
     "name": "stdout",
     "output_type": "stream",
     "text": [
      "Epoch: [1/4], Step: [2000/30000], Loss: [0.08078722655773163]\n",
      "Epoch: [1/4], Step: [4000/30000], Loss: [0.184141606092453]\n",
      "Epoch: [1/4], Step: [6000/30000], Loss: [0.5267646908760071]\n",
      "Epoch: [1/4], Step: [8000/30000], Loss: [0.0007692135404795408]\n",
      "Epoch: [1/4], Step: [10000/30000], Loss: [8.940688758229953e-07]\n",
      "Epoch: [1/4], Step: [12000/30000], Loss: [9.71546342043439e-06]\n",
      "Epoch: [1/4], Step: [14000/30000], Loss: [1.591421096236445e-05]\n",
      "Epoch: [1/4], Step: [16000/30000], Loss: [0.001451314426958561]\n",
      "Epoch: [1/4], Step: [18000/30000], Loss: [0.6591463088989258]\n",
      "Epoch: [1/4], Step: [20000/30000], Loss: [0.18014222383499146]\n",
      "Epoch: [1/4], Step: [22000/30000], Loss: [0.0006658319616690278]\n",
      "Epoch: [1/4], Step: [24000/30000], Loss: [0.0002105404855683446]\n",
      "Epoch: [1/4], Step: [26000/30000], Loss: [4.470336079975823e-06]\n",
      "Epoch: [1/4], Step: [28000/30000], Loss: [6.55650637781946e-07]\n",
      "Epoch: [1/4], Step: [30000/30000], Loss: [3.7731220722198486]\n",
      "Epoch: [2/4], Step: [2000/30000], Loss: [0.0004961412632837892]\n",
      "Epoch: [2/4], Step: [4000/30000], Loss: [0.004082005005329847]\n",
      "Epoch: [2/4], Step: [6000/30000], Loss: [1.9728748156921938e-05]\n",
      "Epoch: [2/4], Step: [8000/30000], Loss: [0.18891124427318573]\n",
      "Epoch: [2/4], Step: [10000/30000], Loss: [3.6774716136278585e-05]\n",
      "Epoch: [2/4], Step: [12000/30000], Loss: [8.940688758229953e-07]\n",
      "Epoch: [2/4], Step: [14000/30000], Loss: [0.00032387152896262705]\n",
      "Epoch: [2/4], Step: [16000/30000], Loss: [4.750264633912593e-05]\n",
      "Epoch: [2/4], Step: [18000/30000], Loss: [9.655858775658999e-06]\n",
      "Epoch: [2/4], Step: [20000/30000], Loss: [0.021725263446569443]\n",
      "Epoch: [2/4], Step: [22000/30000], Loss: [0.00010876666055992246]\n",
      "Epoch: [2/4], Step: [24000/30000], Loss: [0.00018611123959999532]\n",
      "Epoch: [2/4], Step: [26000/30000], Loss: [0.0003289095184300095]\n",
      "Epoch: [2/4], Step: [28000/30000], Loss: [0.06375010311603546]\n",
      "Epoch: [2/4], Step: [30000/30000], Loss: [5.006767423765268e-06]\n",
      "Epoch: [3/4], Step: [2000/30000], Loss: [0.0002848300791811198]\n",
      "Epoch: [3/4], Step: [4000/30000], Loss: [0.0013123833341524005]\n",
      "Epoch: [3/4], Step: [6000/30000], Loss: [0.0035521273966878653]\n",
      "Epoch: [3/4], Step: [8000/30000], Loss: [5.9604641222676946e-08]\n",
      "Epoch: [3/4], Step: [10000/30000], Loss: [0.051427002996206284]\n",
      "Epoch: [3/4], Step: [12000/30000], Loss: [0.0]\n",
      "Epoch: [3/4], Step: [14000/30000], Loss: [2.9802313861182483e-07]\n",
      "Epoch: [3/4], Step: [16000/30000], Loss: [1.6152598618646152e-05]\n",
      "Epoch: [3/4], Step: [18000/30000], Loss: [1.7881390590446244e-07]\n",
      "Epoch: [3/4], Step: [20000/30000], Loss: [0.4693916141986847]\n",
      "Epoch: [3/4], Step: [22000/30000], Loss: [2.396050695097074e-05]\n",
      "Epoch: [3/4], Step: [24000/30000], Loss: [2.1457626644405536e-06]\n",
      "Epoch: [3/4], Step: [26000/30000], Loss: [0.0]\n",
      "Epoch: [3/4], Step: [28000/30000], Loss: [2.980223371196189e-06]\n",
      "Epoch: [3/4], Step: [30000/30000], Loss: [2.2649717266176594e-06]\n",
      "Epoch: [4/4], Step: [2000/30000], Loss: [0.021747177466750145]\n",
      "Epoch: [4/4], Step: [4000/30000], Loss: [0.03848646581172943]\n",
      "Epoch: [4/4], Step: [6000/30000], Loss: [0.0]\n",
      "Epoch: [4/4], Step: [8000/30000], Loss: [0.15666799247264862]\n",
      "Epoch: [4/4], Step: [10000/30000], Loss: [0.0018100717570632696]\n",
      "Epoch: [4/4], Step: [12000/30000], Loss: [0.0]\n",
      "Epoch: [4/4], Step: [14000/30000], Loss: [2.3066464564180933e-05]\n",
      "Epoch: [4/4], Step: [16000/30000], Loss: [2.1532466411590576]\n",
      "Epoch: [4/4], Step: [18000/30000], Loss: [0.0]\n",
      "Epoch: [4/4], Step: [20000/30000], Loss: [1.7881390590446244e-07]\n",
      "Epoch: [4/4], Step: [22000/30000], Loss: [8.34464515264699e-07]\n",
      "Epoch: [4/4], Step: [24000/30000], Loss: [0.00043361488496884704]\n",
      "Epoch: [4/4], Step: [26000/30000], Loss: [3.15299112116918e-05]\n",
      "Epoch: [4/4], Step: [28000/30000], Loss: [0.0005198993603698909]\n",
      "Epoch: [4/4], Step: [30000/30000], Loss: [7.033318979665637e-06]\n"
     ]
    }
   ],
   "source": [
    "epoch_losses = []\n",
    "for epoch in range(num_epochs):\n",
    "    running_loss = 0\n",
    "    for i, (images, labels) in enumerate(dataloader_train):\n",
    "        # origin shape [2, 1, 28, 28]\n",
    "        # input_layer: 1 input channel, 32 output channels, 3 kernel size\n",
    "        images = images.to(device)\n",
    "        labels = labels.to(device)\n",
    "\n",
    "        # Forward pass\n",
    "        outputs = model(images)\n",
    "        loss = criterion(outputs, labels)\n",
    "        running_loss += loss.item()\n",
    "\n",
    "        # Backward pass and optimize\n",
    "        optimizer.zero_grad()\n",
    "        loss.backward()\n",
    "        optimizer.step()\n",
    "\n",
    "        if (i+1) % 2000 ==0:\n",
    "            print(f'Epoch: [{epoch+1}/{num_epochs}], Step: [{i+1}/{n_total_steps}], Loss: [{loss.item()}]')\n",
    "    epoch_losses.append(running_loss/n_total_steps)"
   ]
  },
  {
   "cell_type": "code",
   "execution_count": 72,
   "metadata": {},
   "outputs": [
    {
     "data": {
      "text/plain": [
       "Text(0.5, 1.0, 'Training Loss Over 4 Epochs')"
      ]
     },
     "execution_count": 72,
     "metadata": {},
     "output_type": "execute_result"
    },
    {
     "data": {
      "image/png": "[encoded data removed]",
      "text/plain": [
       "<Figure size 640x480 with 1 Axes>"
      ]
     },
     "metadata": {},
     "output_type": "display_data"
    }
   ],
   "source": [
    "training_losses = pd.DataFrame(epoch_losses, columns=['Loss'],index=list(range(1,5)))\n",
    "training_losses\n",
    "plt.plot(training_losses)\n",
    "plt.xlabel('Epoch')\n",
    "plt.ylabel('Training Loss')\n",
    "plt.title('Training Loss Over 4 Epochs')"
   ]
  },
  {
   "cell_type": "markdown",
   "metadata": {},
   "source": [
    "## Evaluating the Model"
   ]
  },
  {
   "cell_type": "code",
   "execution_count": 98,
   "metadata": {},
   "outputs": [],
   "source": [
    "evaluation_criteria = torchmetrics.Accuracy(task='multiclass', num_classes=10, average='macro')"
   ]
  },
  {
   "cell_type": "code",
   "execution_count": 102,
   "metadata": {},
   "outputs": [
    {
     "data": {
      "text/plain": [
       "tensor(0.9338)"
      ]
     },
     "execution_count": 102,
     "metadata": {},
     "output_type": "execute_result"
    }
   ],
   "source": [
    "model.eval()\n",
    "with torch.no_grad():\n",
    "    for images, labels in dataloader_test:\n",
    "        outputs = model(images)\n",
    "        evaluation_criteria.update(outputs, labels)\n",
    "        #preds = outputs.argmax(dim=1)\n",
    "#         print(labels)\n",
    "#         print(preds)\n",
    "#         evaluation_criteria(preds, labels.view(-1,1))\n",
    "test_accuracy = evaluation_criteria.compute()\n",
    "test_accuracy"
   ]
  },
  {
   "cell_type": "markdown",
   "metadata": {},
   "source": [
    "### It looks like this model has a macro accuracy of around 93% across all 10 classes. Not bad!\n",
    "Including a softmax() layer inside the CNN would have made model evaluation slightly simpler I feel."
   ]
  }
 ],
 "metadata": {
  "kernelspec": {
   "display_name": "lewagon",
   "language": "python",
   "name": "python3"
  },
  "language_info": {
   "codemirror_mode": {
    "name": "ipython",
    "version": 3
   },
   "file_extension": ".py",
   "mimetype": "text/x-python",
   "name": "python",
   "nbconvert_exporter": "python",
   "pygments_lexer": "ipython3",
   "version": "3.10.6"
  }
 },
 "nbformat": 4,
 "nbformat_minor": 2
}
